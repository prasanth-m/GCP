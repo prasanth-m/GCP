{
 "cells": [
  {
   "cell_type": "code",
   "execution_count": 1,
   "id": "7f6f5f68-0105-40bd-9b81-269afaf71f8e",
   "metadata": {},
   "outputs": [
    {
     "name": "stdout",
     "output_type": "stream",
     "text": [
      "Requirement already satisfied: google-cloud-aiplatform in /opt/conda/lib/python3.7/site-packages (1.32.0)\n",
      "Requirement already satisfied: google-cloud-bigquery in /opt/conda/lib/python3.7/site-packages (3.11.4)\n",
      "Requirement already satisfied: kfp in /opt/conda/lib/python3.7/site-packages (2.1.3)\n",
      "Collecting kfp\n",
      "  Using cached kfp-2.2.0-py3-none-any.whl\n",
      "Requirement already satisfied: google-cloud-pipeline-components in /opt/conda/lib/python3.7/site-packages (2.3.1)\n",
      "Requirement already satisfied: google-api-core[grpc]!=2.0.*,!=2.1.*,!=2.2.*,!=2.3.*,!=2.4.*,!=2.5.*,!=2.6.*,!=2.7.*,<3.0.0dev,>=1.32.0 in /opt/conda/lib/python3.7/site-packages (from google-cloud-aiplatform) (1.34.0)\n",
      "Requirement already satisfied: proto-plus<2.0.0dev,>=1.22.0 in /opt/conda/lib/python3.7/site-packages (from google-cloud-aiplatform) (1.22.3)\n",
      "Requirement already satisfied: protobuf!=3.20.0,!=3.20.1,!=4.21.0,!=4.21.1,!=4.21.2,!=4.21.3,!=4.21.4,!=4.21.5,<5.0.0dev,>=3.19.5 in /opt/conda/lib/python3.7/site-packages (from google-cloud-aiplatform) (3.20.3)\n",
      "Requirement already satisfied: packaging>=14.3 in /opt/conda/lib/python3.7/site-packages (from google-cloud-aiplatform) (23.1)\n",
      "Requirement already satisfied: google-cloud-storage<3.0.0dev,>=1.32.0 in /opt/conda/lib/python3.7/site-packages (from google-cloud-aiplatform) (2.10.0)\n",
      "Requirement already satisfied: google-cloud-resource-manager<3.0.0dev,>=1.3.3 in /opt/conda/lib/python3.7/site-packages (from google-cloud-aiplatform) (1.10.3)\n",
      "Requirement already satisfied: shapely<2.0.0 in /opt/conda/lib/python3.7/site-packages (from google-cloud-aiplatform) (1.8.5.post1)\n",
      "Requirement already satisfied: grpcio<2.0dev,>=1.47.0 in /opt/conda/lib/python3.7/site-packages (from google-cloud-bigquery) (1.57.0)\n",
      "Requirement already satisfied: google-cloud-core<3.0.0dev,>=1.6.0 in /opt/conda/lib/python3.7/site-packages (from google-cloud-bigquery) (2.3.3)\n",
      "Requirement already satisfied: google-resumable-media<3.0dev,>=0.6.0 in /opt/conda/lib/python3.7/site-packages (from google-cloud-bigquery) (2.5.0)\n",
      "Requirement already satisfied: python-dateutil<3.0dev,>=2.7.2 in /opt/conda/lib/python3.7/site-packages (from google-cloud-bigquery) (2.8.2)\n",
      "Requirement already satisfied: requests<3.0.0dev,>=2.21.0 in /opt/conda/lib/python3.7/site-packages (from google-cloud-bigquery) (2.31.0)\n",
      "Requirement already satisfied: click<9,>=8.0.0 in /opt/conda/lib/python3.7/site-packages (from kfp) (8.1.7)\n",
      "Requirement already satisfied: docstring-parser<1,>=0.7.3 in /opt/conda/lib/python3.7/site-packages (from kfp) (0.15)\n",
      "Requirement already satisfied: google-auth<3,>=1.6.1 in /opt/conda/lib/python3.7/site-packages (from kfp) (2.22.0)\n",
      "Requirement already satisfied: kfp-pipeline-spec==0.2.2 in /opt/conda/lib/python3.7/site-packages (from kfp) (0.2.2)\n",
      "Requirement already satisfied: kfp-server-api<2.1.0,>=2.0.0 in /opt/conda/lib/python3.7/site-packages (from kfp) (2.0.1)\n",
      "Requirement already satisfied: kubernetes<27,>=8.0.0 in /opt/conda/lib/python3.7/site-packages (from kfp) (26.1.0)\n",
      "Requirement already satisfied: PyYAML<7,>=5.3 in /opt/conda/lib/python3.7/site-packages (from kfp) (6.0.1)\n",
      "Requirement already satisfied: requests-toolbelt<1,>=0.8.0 in /opt/conda/lib/python3.7/site-packages (from kfp) (0.10.1)\n",
      "Requirement already satisfied: tabulate<1,>=0.8.6 in /opt/conda/lib/python3.7/site-packages (from kfp) (0.9.0)\n",
      "Requirement already satisfied: urllib3<2.0.0 in /opt/conda/lib/python3.7/site-packages (from kfp) (1.26.16)\n",
      "Requirement already satisfied: typing-extensions<5,>=3.7.4 in /opt/conda/lib/python3.7/site-packages (from kfp) (4.7.1)\n",
      "Requirement already satisfied: importlib-metadata in /opt/conda/lib/python3.7/site-packages (from click<9,>=8.0.0->kfp) (4.11.4)\n",
      "Requirement already satisfied: googleapis-common-protos<2.0dev,>=1.56.2 in /opt/conda/lib/python3.7/site-packages (from google-api-core[grpc]!=2.0.*,!=2.1.*,!=2.2.*,!=2.3.*,!=2.4.*,!=2.5.*,!=2.6.*,!=2.7.*,<3.0.0dev,>=1.32.0->google-cloud-aiplatform) (1.60.0)\n",
      "Requirement already satisfied: grpcio-status<2.0dev,>=1.33.2 in /opt/conda/lib/python3.7/site-packages (from google-api-core[grpc]!=2.0.*,!=2.1.*,!=2.2.*,!=2.3.*,!=2.4.*,!=2.5.*,!=2.6.*,!=2.7.*,<3.0.0dev,>=1.32.0->google-cloud-aiplatform) (1.48.2)\n",
      "Requirement already satisfied: cachetools<6.0,>=2.0.0 in /opt/conda/lib/python3.7/site-packages (from google-auth<3,>=1.6.1->kfp) (5.3.1)\n",
      "Requirement already satisfied: pyasn1-modules>=0.2.1 in /opt/conda/lib/python3.7/site-packages (from google-auth<3,>=1.6.1->kfp) (0.3.0)\n",
      "Requirement already satisfied: rsa<5,>=3.1.4 in /opt/conda/lib/python3.7/site-packages (from google-auth<3,>=1.6.1->kfp) (4.9)\n",
      "Requirement already satisfied: six>=1.9.0 in /opt/conda/lib/python3.7/site-packages (from google-auth<3,>=1.6.1->kfp) (1.16.0)\n",
      "Requirement already satisfied: grpc-google-iam-v1<1.0.0dev,>=0.12.4 in /opt/conda/lib/python3.7/site-packages (from google-cloud-resource-manager<3.0.0dev,>=1.3.3->google-cloud-aiplatform) (0.12.6)\n",
      "Requirement already satisfied: google-crc32c<2.0dev,>=1.0 in /opt/conda/lib/python3.7/site-packages (from google-resumable-media<3.0dev,>=0.6.0->google-cloud-bigquery) (1.5.0)\n",
      "Requirement already satisfied: certifi in /opt/conda/lib/python3.7/site-packages (from kfp-server-api<2.1.0,>=2.0.0->kfp) (2023.7.22)\n",
      "Requirement already satisfied: setuptools>=21.0.0 in /opt/conda/lib/python3.7/site-packages (from kubernetes<27,>=8.0.0->kfp) (68.1.2)\n",
      "Requirement already satisfied: websocket-client!=0.40.0,!=0.41.*,!=0.42.*,>=0.32.0 in /opt/conda/lib/python3.7/site-packages (from kubernetes<27,>=8.0.0->kfp) (1.6.1)\n",
      "Requirement already satisfied: requests-oauthlib in /opt/conda/lib/python3.7/site-packages (from kubernetes<27,>=8.0.0->kfp) (1.3.1)\n",
      "Requirement already satisfied: charset-normalizer<4,>=2 in /opt/conda/lib/python3.7/site-packages (from requests<3.0.0dev,>=2.21.0->google-cloud-bigquery) (3.2.0)\n",
      "Requirement already satisfied: idna<4,>=2.5 in /opt/conda/lib/python3.7/site-packages (from requests<3.0.0dev,>=2.21.0->google-cloud-bigquery) (3.4)\n",
      "Requirement already satisfied: pyasn1<0.6.0,>=0.4.6 in /opt/conda/lib/python3.7/site-packages (from pyasn1-modules>=0.2.1->google-auth<3,>=1.6.1->kfp) (0.5.0)\n",
      "Requirement already satisfied: zipp>=0.5 in /opt/conda/lib/python3.7/site-packages (from importlib-metadata->click<9,>=8.0.0->kfp) (3.15.0)\n",
      "Requirement already satisfied: oauthlib>=3.0.0 in /opt/conda/lib/python3.7/site-packages (from requests-oauthlib->kubernetes<27,>=8.0.0->kfp) (3.2.2)\n"
     ]
    }
   ],
   "source": [
    "#install packages\n",
    "! pip3 install --upgrade google-cloud-aiplatform \\\n",
    "                                 google-cloud-bigquery \\\n",
    "                                 kfp \\\n",
    "                                 google-cloud-pipeline-components"
   ]
  },
  {
   "cell_type": "code",
   "execution_count": 2,
   "id": "d0916fed-c96a-48f7-8131-e544244194cc",
   "metadata": {},
   "outputs": [
    {
     "name": "stdout",
     "output_type": "stream",
     "text": [
      "[core]\n",
      "account = 906300363160-compute@developer.gserviceaccount.com\n",
      "disable_usage_reporting = True\n",
      "project = lucid-forklift-399118\n",
      "\n",
      "Your active configuration is: [default]\n"
     ]
    }
   ],
   "source": [
    "#list config details\n",
    "!gcloud config list"
   ]
  },
  {
   "cell_type": "code",
   "execution_count": 3,
   "id": "efc630ec-92da-4284-b934-f992e35e2800",
   "metadata": {},
   "outputs": [
    {
     "name": "stdout",
     "output_type": "stream",
     "text": [
      "PROJECT_ID             NAME  PROJECT_NUMBER\n",
      "lucid-forklift-399118  demo  906300363160\n"
     ]
    }
   ],
   "source": [
    "#list project details\n",
    "!gcloud projects list"
   ]
  },
  {
   "cell_type": "code",
   "execution_count": 4,
   "id": "8b14ff73-396f-4cd4-8110-c99277f46272",
   "metadata": {},
   "outputs": [
    {
     "name": "stdout",
     "output_type": "stream",
     "text": [
      "Updated property [core/project].\n"
     ]
    }
   ],
   "source": [
    "# set project id\n",
    "PROJECT_ID = \"lucid-forklift-399118\"  # @param {type:\"string\"}\n",
    "\n",
    "# Set the project id\n",
    "! gcloud config set project {PROJECT_ID}"
   ]
  },
  {
   "cell_type": "code",
   "execution_count": 5,
   "id": "d99470e3-8312-49da-8383-72f062156511",
   "metadata": {},
   "outputs": [],
   "source": [
    "#set region\n",
    "REGION = \"us-central1\"  # @param {type: \"string\"}"
   ]
  },
  {
   "cell_type": "code",
   "execution_count": 6,
   "id": "0ee62270-5904-4e4a-be50-08113e4a0f94",
   "metadata": {},
   "outputs": [],
   "source": [
    "#Create a storage bucket to store intermediate artifacts such as datasets\n",
    "BUCKET_URI = f\"gs://demo-vertex-{PROJECT_ID}-test\"  # @param {type:\"string\"}"
   ]
  },
  {
   "cell_type": "code",
   "execution_count": 7,
   "id": "2c30dfea-9a14-4074-b532-df21b188ba80",
   "metadata": {},
   "outputs": [
    {
     "name": "stdout",
     "output_type": "stream",
     "text": [
      "Creating gs://demo-vertex-lucid-forklift-399118-test/...\n"
     ]
    }
   ],
   "source": [
    "# Run the following cell to create your Cloud Storage bucket.\n",
    "! gsutil mb -l {REGION} -p {PROJECT_ID} {BUCKET_URI}"
   ]
  },
  {
   "cell_type": "code",
   "execution_count": 8,
   "id": "02103fc5-172b-49eb-abf7-fea8a8ef5051",
   "metadata": {},
   "outputs": [],
   "source": [
    "# set service account\n",
    "SERVICE_ACCOUNT = \"906300363160-compute@developer.gserviceaccount.com\"  # @param {type:\"string\"}"
   ]
  },
  {
   "cell_type": "code",
   "execution_count": 9,
   "id": "8af2a8fc-3870-4802-9b99-29fddc1ebe08",
   "metadata": {},
   "outputs": [],
   "source": [
    "import json\n",
    "import os\n",
    "\n",
    "from pathlib import Path as path\n",
    "from urllib.parse import urlparse\n",
    "\n",
    "import google.cloud.aiplatform as vertex_ai\n",
    "from kfp import dsl\n",
    "from kfp import compiler\n",
    "#from kfp.dsl import component"
   ]
  },
  {
   "cell_type": "code",
   "execution_count": 10,
   "id": "0e2c78a1-df43-4c69-a4e3-db2ac0d83b65",
   "metadata": {},
   "outputs": [],
   "source": [
    "# initialize the vertex ai sdk\n",
    "vertex_ai.init(project=PROJECT_ID, location=REGION, staging_bucket=BUCKET_URI)"
   ]
  },
  {
   "cell_type": "code",
   "execution_count": 11,
   "id": "199158d8-ee43-4923-bbef-73d5277012db",
   "metadata": {},
   "outputs": [],
   "source": [
    "# Grant your service account access to read and write pipeline artifacts in the bucket that you created in the previous step\n",
    "\n",
    "! gsutil iam ch serviceAccount:{SERVICE_ACCOUNT}:roles/storage.objectCreator $BUCKET_URI\n",
    "\n",
    "! gsutil iam ch serviceAccount:{SERVICE_ACCOUNT}:roles/storage.objectViewer $BUCKET_URI"
   ]
  },
  {
   "cell_type": "code",
   "execution_count": 12,
   "id": "eee98a35-d519-4456-b495-e8b011dc3c08",
   "metadata": {},
   "outputs": [],
   "source": [
    "# setup project template folders\n",
    "DATA_PATH = \"data\"\n",
    "KFP_COMPONENTS_PATH = \"components\"\n",
    "SRC = \"src\"\n",
    "BUILD = \"build\"\n",
    "\n",
    "!mkdir -m 777 -p {DATA_PATH} {KFP_COMPONENTS_PATH} {SRC} {BUILD}"
   ]
  },
  {
   "cell_type": "code",
   "execution_count": 13,
   "id": "71c17b46-3721-4d7f-b854-021879b5ae6b",
   "metadata": {},
   "outputs": [],
   "source": [
    "#setup pipeline constants\n",
    "JOB_NAME = f\"merge-table-data\"\n",
    "SETUP_FILE_URI = urlparse(BUCKET_URI)._replace(path=\"setup.py\").geturl()\n",
    "INPUTS_URI = urlparse(BUCKET_URI)._replace(path=f\"{DATA_PATH}/raw/*.sgm\").geturl()\n",
    "BQ_CHURN_DATASET = \"CHURN\"\n",
    "BQ_CHURN_TABLE = \"CHURN_HISTORY_RAW\"\n",
    "BQ_CHURN_VIEW = \"CHURN_CURRENT_RAW_VIEW\""
   ]
  },
  {
   "cell_type": "code",
   "execution_count": 14,
   "id": "f9d3f51b-80d2-4e00-b2de-4256d5c82124",
   "metadata": {},
   "outputs": [],
   "source": [
    "!mkdir -m 777 -p {KFP_COMPONENTS_PATH}/bq_merge_table_component"
   ]
  },
  {
   "cell_type": "code",
   "execution_count": 15,
   "id": "e62f92c8-914e-499b-b75a-b2b76a4a09be",
   "metadata": {},
   "outputs": [],
   "source": [
    "# define bigquery SQL operation\n",
    "create_bq_merge_query = f\"\"\"\n",
    "MERGE {BQ_CHURN_DATASET}.{BQ_CHURN_TABLE} H\n",
    "USING {BQ_CHURN_DATASET}.{BQ_CHURN_VIEW}  C\n",
    "ON H.Customer_ID = C.Customer_ID\n",
    "WHEN MATCHED THEN\n",
    "  UPDATE SET H.last_modified_date = CURRENT_DATE,H.srvc_prov_state_cd_ab_ind_current_month = C.srvc_prov_state_cd_ab_ind_current_month\n",
    "WHEN NOT MATCHED THEN\n",
    "  INSERT (Customer_ID, churn,rec_create_date) VALUES(Customer_ID, churn,rec_create_date);\n",
    "\"\"\"\n",
    "\n",
    "with open(\n",
    "    f\"{KFP_COMPONENTS_PATH}/bq_merge_table_component/create_bq_merge.sql\", \"w\"\n",
    ") as q:\n",
    "    q.write(create_bq_merge_query)\n",
    "q.close()"
   ]
  },
  {
   "cell_type": "code",
   "execution_count": 16,
   "id": "246b669f-6577-404f-9da9-bdf2bab1e2d7",
   "metadata": {},
   "outputs": [],
   "source": [
    "# set pipeline configs\n",
    "JOB_CONFIG = {\n",
    "    \"destinationTable\": {\n",
    "        \"projectId\": PROJECT_ID,\n",
    "        \"datasetId\": BQ_CHURN_DATASET,\n",
    "        \"tableId\": BQ_CHURN_TABLE,\n",
    "        \"viewId\": BQ_CHURN_VIEW\n",
    "    }\n",
    "}"
   ]
  },
  {
   "cell_type": "code",
   "execution_count": 17,
   "id": "00744b7e-929a-4b02-8446-6af1c1315d50",
   "metadata": {},
   "outputs": [],
   "source": [
    "# create pipeline\n",
    "@dsl.pipeline(\n",
    "    name=\"run churn table update\",\n",
    "    description=\"A batch pipeline to update the existing history table with currrent data\",\n",
    ")\n",
    "def pipeline(\n",
    "    create_bq_merge_query: str,\n",
    "    job_name: str,\n",
    "    inputs_uri: str,\n",
    "    bq_dataset: str,\n",
    "    bq_table: str,\n",
    "    bq_view: str,\n",
    "    requirements_file_path: str,\n",
    "    python_file_path: str,\n",
    "    setup_file_uri: str,\n",
    "    temp_location: str,\n",
    "    job_config: dict,\n",
    "    project: str = PROJECT_ID,\n",
    "    region: str = REGION,\n",
    "):\n",
    "\n",
    "    from google_cloud_pipeline_components.v1.bigquery import (\n",
    "        BigqueryCreateModelJobOp, BigqueryEvaluateModelJobOp,\n",
    "        BigqueryPredictModelJobOp, BigqueryQueryJobOp)\n",
    "\n",
    "    # create the dataset\n",
    "    bq_dataset_op = BigqueryQueryJobOp(\n",
    "        query=create_bq_merge_query,\n",
    "        project=project,\n",
    "        location=\"US\",\n",
    "    )"
   ]
  },
  {
   "cell_type": "code",
   "execution_count": 18,
   "id": "237e4736-aade-442d-ad47-1b129cc3fc42",
   "metadata": {},
   "outputs": [],
   "source": [
    "## compile and run pipeline\n",
    "PIPELINE_ROOT = urlparse(BUCKET_URI)._replace(path=\"pipeline_root\").geturl()\n",
    "PIPELINE_PACKAGE = str(path(BUILD) / \"mlops_bqml_churn_pipeline.json\")\n",
    "REQUIREMENTS_URI = urlparse(BUCKET_URI)._replace(path=\"requirements.txt\").geturl()\n",
    "PYTHON_FILE_URI = urlparse(BUCKET_URI)._replace(path=\"src/ingest_pipeline.py\").geturl()\n",
    "compiler.Compiler().compile(pipeline_func=pipeline, package_path=PIPELINE_PACKAGE)"
   ]
  },
  {
   "cell_type": "code",
   "execution_count": 19,
   "id": "25afa2d4-4616-4db0-ba79-593ac39f8ec6",
   "metadata": {},
   "outputs": [
    {
     "name": "stdout",
     "output_type": "stream",
     "text": [
      "Creating PipelineJob\n",
      "PipelineJob created. Resource name: projects/906300363160/locations/us-central1/pipelineJobs/run-churn-table-update-20230917152030\n",
      "To use this PipelineJob in another session:\n",
      "pipeline_job = aiplatform.PipelineJob.get('projects/906300363160/locations/us-central1/pipelineJobs/run-churn-table-update-20230917152030')\n",
      "View Pipeline Job:\n",
      "https://console.cloud.google.com/vertex-ai/locations/us-central1/pipelines/runs/run-churn-table-update-20230917152030?project=906300363160\n",
      "PipelineJob projects/906300363160/locations/us-central1/pipelineJobs/run-churn-table-update-20230917152030 current state:\n",
      "PipelineState.PIPELINE_STATE_RUNNING\n",
      "PipelineJob projects/906300363160/locations/us-central1/pipelineJobs/run-churn-table-update-20230917152030 current state:\n",
      "PipelineState.PIPELINE_STATE_RUNNING\n",
      "PipelineJob projects/906300363160/locations/us-central1/pipelineJobs/run-churn-table-update-20230917152030 current state:\n",
      "PipelineState.PIPELINE_STATE_RUNNING\n",
      "PipelineJob run completed. Resource name: projects/906300363160/locations/us-central1/pipelineJobs/run-churn-table-update-20230917152030\n"
     ]
    }
   ],
   "source": [
    "pipeline = vertex_ai.PipelineJob(\n",
    "    display_name=f\"data_preprocess\",\n",
    "    template_path=PIPELINE_PACKAGE,\n",
    "    pipeline_root=PIPELINE_ROOT,\n",
    "    parameter_values={\n",
    "        \"create_bq_merge_query\": create_bq_merge_query,\n",
    "        \"bq_dataset\": BQ_CHURN_DATASET,\n",
    "        \"job_name\": JOB_NAME,\n",
    "        \"bq_table\": BQ_CHURN_TABLE,\n",
    "        \"bq_view\": BQ_CHURN_VIEW,\n",
    "        \"requirements_file_path\": REQUIREMENTS_URI,\n",
    "        \"python_file_path\": PYTHON_FILE_URI,\n",
    "        \"temp_location\": PIPELINE_ROOT,\n",
    "        \"job_config\": JOB_CONFIG,\n",
    "        \"setup_file_uri\": SETUP_FILE_URI,\n",
    "        \"inputs_uri\": INPUTS_URI\n",
    "    },\n",
    "    enable_caching=False,\n",
    ")\n",
    "\n",
    "pipeline.run(service_account=SERVICE_ACCOUNT)"
   ]
  },
  {
   "cell_type": "code",
   "execution_count": 20,
   "id": "cde44e15-5628-43f8-9c7e-f1bafa0122a1",
   "metadata": {},
   "outputs": [
    {
     "name": "stdout",
     "output_type": "stream",
     "text": [
      "Removing gs://demo-vertex-lucid-forklift-399118-test/pipeline_root/#1694964047620344...\n",
      "Removing gs://demo-vertex-lucid-forklift-399118-test/pipeline_root/906300363160/#1694964048117102...\n",
      "Removing gs://demo-vertex-lucid-forklift-399118-test/pipeline_root/906300363160/run-churn-table-update-20230917152030/#1694964048619021...\n",
      "Removing gs://demo-vertex-lucid-forklift-399118-test/pipeline_root/906300363160/run-churn-table-update-20230917152030/bigquery-query-job_723238545224892416/#1694964049118582...\n",
      "Removing gs://demo-vertex-lucid-forklift-399118-test/pipeline_root/906300363160/run-churn-table-update-20230917152030/bigquery-query-job_723238545224892416/gcp_resources#1694964050915072...\n",
      "Removing gs://demo-vertex-lucid-forklift-399118-test/pipeline_root/906300363160/run-churn-table-update-20230917152030/bigquery-query-job_723238545224892416/executor_output.json#1694964071816010...\n",
      "/ [6/6 objects] 100% Done                                                       \n",
      "Operation completed over 6 objects.                                              \n",
      "Removing gs://demo-vertex-lucid-forklift-399118-test/...\n"
     ]
    }
   ],
   "source": [
    "# delete pipeline and temp GCS buckets\n",
    "#pipeline.delete()\n",
    "#https://cloud.google.com/composer/docs/how-to/managing/environment-variables\n",
    "delete_bucket = True\n",
    "\n",
    "# delete bucket\n",
    "if delete_bucket or os.getenv(\"IS_TESTING\"):\n",
    "    ! gsutil -m rm -r $BUCKET_URI"
   ]
  },
  {
   "cell_type": "code",
   "execution_count": 21,
   "id": "f0bbb182-593f-43d3-8574-02ecb8df050d",
   "metadata": {},
   "outputs": [],
   "source": [
    "#! gcloud services enable logging.googleapis.com"
   ]
  }
 ],
 "metadata": {
  "environment": {
   "kernel": "python3",
   "name": "common-cpu.m111",
   "type": "gcloud",
   "uri": "gcr.io/deeplearning-platform-release/base-cpu:m111"
  },
  "kernelspec": {
   "display_name": "Python 3",
   "language": "python",
   "name": "python3"
  },
  "language_info": {
   "codemirror_mode": {
    "name": "ipython",
    "version": 3
   },
   "file_extension": ".py",
   "mimetype": "text/x-python",
   "name": "python",
   "nbconvert_exporter": "python",
   "pygments_lexer": "ipython3",
   "version": "3.7.12"
  }
 },
 "nbformat": 4,
 "nbformat_minor": 5
}
